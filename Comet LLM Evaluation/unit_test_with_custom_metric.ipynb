{
  "nbformat": 4,
  "nbformat_minor": 0,
  "metadata": {
    "colab": {
      "provenance": [],
      "name": "unit-test-with-custom-metric.ipynb"
    },
    "kernelspec": {
      "name": "python3",
      "display_name": "Python 3"
    },
    "language_info": {
      "name": "python"
    }
  },
  "cells": [
    {
      "cell_type": "markdown",
      "source": [
        "<img src=\"https://raw.githubusercontent.com/comet-ml/opik/main/apps/opik-documentation/documentation/static/img/opik-logo.svg\" width=\"250\"/>"
      ],
      "metadata": {
        "id": "PJ_lkrnb3g10"
      }
    },
    {
      "cell_type": "markdown",
      "source": [
        "# LLM Unit Tests with MedQuAD\n",
        "\n"
      ],
      "metadata": {
        "id": "Fxn-MCa5Awyo"
      }
    },
    {
      "cell_type": "markdown",
      "source": [
        "In this exercise, you'll be implementing an LLM unit test similar to the one you just saw in the lesson. To make the exercise a little more interesting, you'll be using the popular MedQuAD dataset, which is a question-answer dataset with context for each question-answer pair.\n",
        "\n",
        "You'll first download the dataset from HuggingFace and convert it into an Opik Dataset. Then, you'll reuse your Factuality metric from a previous lesson to build an LLM unit test. In the real world, you might use this unit test as part of your CI/CD pipeline, to ensure that any changes you make to your underlying model, prompt, or parameters doesn't lead to a regression.\n",
        "\n",
        "For this exercise, you can use OpenAI or open source models via LiteLLM."
      ],
      "metadata": {
        "id": "JfJNkYp_A4H7"
      }
    },
    {
      "cell_type": "markdown",
      "source": [
        "# Imports & Configuration"
      ],
      "metadata": {
        "id": "4EbXCzQ9DIzv"
      }
    },
    {
      "cell_type": "code",
      "source": [
        "! pip install opik openai litellm  --quiet"
      ],
      "metadata": {
        "id": "v5hMcfoT6Ipv",
        "outputId": "1cc729b2-24e9-47cb-ca03-300610aa994f",
        "colab": {
          "base_uri": "https://localhost:8080/"
        }
      },
      "execution_count": 1,
      "outputs": [
        {
          "output_type": "stream",
          "name": "stdout",
          "text": [
            "\u001b[?25l   \u001b[90m━━━━━━━━━━━━━━━━━━━━━━━━━━━━━━━━━━━━━━━━\u001b[0m \u001b[32m0.0/304.7 kB\u001b[0m \u001b[31m?\u001b[0m eta \u001b[36m-:--:--\u001b[0m\r\u001b[2K   \u001b[90m━━━━━━━━━━━━━━━━━━━━━━━━━━━━━━━━━━━━━━━━\u001b[0m \u001b[32m304.7/304.7 kB\u001b[0m \u001b[31m12.8 MB/s\u001b[0m eta \u001b[36m0:00:00\u001b[0m\n",
            "\u001b[?25h\u001b[?25l   \u001b[90m━━━━━━━━━━━━━━━━━━━━━━━━━━━━━━━━━━━━━━━━\u001b[0m \u001b[32m0.0/6.6 MB\u001b[0m \u001b[31m?\u001b[0m eta \u001b[36m-:--:--\u001b[0m\r\u001b[2K   \u001b[91m━━━━━━━━━━━━━━━━━━━━━━━━━━━\u001b[0m\u001b[91m╸\u001b[0m\u001b[90m━━━━━━━━━━━━\u001b[0m \u001b[32m4.6/6.6 MB\u001b[0m \u001b[31m139.0 MB/s\u001b[0m eta \u001b[36m0:00:01\u001b[0m\r\u001b[2K   \u001b[91m━━━━━━━━━━━━━━━━━━━━━━━━━━━━━━━━━━━━━━━\u001b[0m\u001b[91m╸\u001b[0m \u001b[32m6.6/6.6 MB\u001b[0m \u001b[31m142.6 MB/s\u001b[0m eta \u001b[36m0:00:01\u001b[0m\r\u001b[2K   \u001b[90m━━━━━━━━━━━━━━━━━━━━━━━━━━━━━━━━━━━━━━━━\u001b[0m \u001b[32m6.6/6.6 MB\u001b[0m \u001b[31m83.8 MB/s\u001b[0m eta \u001b[36m0:00:00\u001b[0m\n",
            "\u001b[?25h\u001b[?25l   \u001b[90m━━━━━━━━━━━━━━━━━━━━━━━━━━━━━━━━━━━━━━━━\u001b[0m \u001b[32m0.0/76.4 kB\u001b[0m \u001b[31m?\u001b[0m eta \u001b[36m-:--:--\u001b[0m\r\u001b[2K   \u001b[90m━━━━━━━━━━━━━━━━━━━━━━━━━━━━━━━━━━━━━━━━\u001b[0m \u001b[32m76.4/76.4 kB\u001b[0m \u001b[31m6.3 MB/s\u001b[0m eta \u001b[36m0:00:00\u001b[0m\n",
            "\u001b[?25h\u001b[?25l   \u001b[90m━━━━━━━━━━━━━━━━━━━━━━━━━━━━━━━━━━━━━━━━\u001b[0m \u001b[32m0.0/162.6 kB\u001b[0m \u001b[31m?\u001b[0m eta \u001b[36m-:--:--\u001b[0m\r\u001b[2K   \u001b[90m━━━━━━━━━━━━━━━━━━━━━━━━━━━━━━━━━━━━━━━━\u001b[0m \u001b[32m162.6/162.6 kB\u001b[0m \u001b[31m13.4 MB/s\u001b[0m eta \u001b[36m0:00:00\u001b[0m\n",
            "\u001b[2K   \u001b[90m━━━━━━━━━━━━━━━━━━━━━━━━━━━━━━━━━━━━━━━━\u001b[0m \u001b[32m1.2/1.2 MB\u001b[0m \u001b[31m53.5 MB/s\u001b[0m eta \u001b[36m0:00:00\u001b[0m\n",
            "\u001b[2K   \u001b[90m━━━━━━━━━━━━━━━━━━━━━━━━━━━━━━━━━━━━━━━━\u001b[0m \u001b[32m3.1/3.1 MB\u001b[0m \u001b[31m63.2 MB/s\u001b[0m eta \u001b[36m0:00:00\u001b[0m\n",
            "\u001b[?25h"
          ]
        }
      ]
    },
    {
      "cell_type": "code",
      "execution_count": 2,
      "metadata": {
        "id": "xlzz8No30MZx",
        "outputId": "f4822dbc-30bf-4328-eadb-3d2179ab3518",
        "colab": {
          "base_uri": "https://localhost:8080/"
        }
      },
      "outputs": [
        {
          "output_type": "stream",
          "name": "stderr",
          "text": [
            "/usr/local/lib/python3.10/dist-packages/pydantic/_internal/_config.py:345: UserWarning: Valid config keys have changed in V2:\n",
            "* 'fields' has been removed\n",
            "  warnings.warn(message, UserWarning)\n"
          ]
        }
      ],
      "source": [
        "import pytest\n",
        "import opik\n",
        "from opik import track, llm_unit\n",
        "from opik import Opik\n",
        "from opik.integrations.openai import track_openai\n",
        "import openai\n",
        "import json\n",
        "import os\n",
        "from getpass import getpass\n",
        "import pandas as pd\n",
        "import litellm\n",
        "from litellm.integrations.opik.opik import OpikLogger\n",
        "from opik.opik_context import get_current_span_data\n",
        "\n",
        "opik_logger = OpikLogger()\n",
        "# In order to log LiteLLM traces to Opik, you will need to set the Opik callback\n",
        "litellm.callbacks = [opik_logger]\n",
        "\n",
        "# Define project name to enable tracing\n",
        "os.environ[\"OPIK_PROJECT_NAME\"] = \"unit-test-MedQuAD-bench\""
      ]
    },
    {
      "cell_type": "code",
      "source": [
        "# Opik configuration\n",
        "if \"OPIK_API_KEY\" not in os.environ:\n",
        "  os.environ[\"OPIK_API_KEY\"] = getpass(\"Enter your Opik API key: \")\n",
        "\n",
        "opik.configure()"
      ],
      "metadata": {
        "id": "D32onuCcArD8",
        "outputId": "6948c35c-708c-472a-9915-924fdea6c5f3",
        "colab": {
          "base_uri": "https://localhost:8080/"
        }
      },
      "execution_count": 3,
      "outputs": [
        {
          "name": "stdout",
          "output_type": "stream",
          "text": [
            "Enter your Opik API key: ··········\n",
            "Do you want to use \"bluemusk\" workspace? (Y/n)y\n"
          ]
        },
        {
          "output_type": "stream",
          "name": "stderr",
          "text": [
            "OPIK: Configuration saved to file: /root/.opik.config\n"
          ]
        }
      ]
    },
    {
      "cell_type": "code",
      "source": [
        "# retrieve any dataset\n",
        "client = opik.Opik()\n"
      ],
      "metadata": {
        "id": "yYTR5IA3DDuj"
      },
      "execution_count": 4,
      "outputs": []
    },
    {
      "cell_type": "markdown",
      "source": [
        "# Dataset"
      ],
      "metadata": {
        "id": "0vDQ3EvSDVyM"
      }
    },
    {
      "cell_type": "code",
      "source": [
        "# Create dataset\n",
        "dataset = client.get_or_create_dataset(\n",
        "    name=\"MedQuAD\", description=\"MedQuAD dataset\"\n",
        ")"
      ],
      "metadata": {
        "id": "fBiS0RX0DVTU",
        "outputId": "5e100a2f-81fc-423b-addc-9f7d600c6dae",
        "colab": {
          "base_uri": "https://localhost:8080/"
        }
      },
      "execution_count": 5,
      "outputs": [
        {
          "output_type": "stream",
          "name": "stderr",
          "text": [
            "OPIK: Created a \"MedQuAD\" dataset at https://www.comet.com/opik/bluemusk/redirect/datasets?name=MedQuAD.\n"
          ]
        }
      ]
    },
    {
      "cell_type": "code",
      "source": [
        "# Insert items into dataset\n",
        "df = pd.read_parquet(\n",
        "    \"hf://datasets/AnonymousSub/MedQuAD_Context_Question_Answer_Triples_TWO/data/train-00000-of-00001-c38b6c63d6178c71.parquet\"\n",
        ")\n",
        "df = df.sample(n=50, random_state=42)\n"
      ],
      "metadata": {
        "id": "YUE7L051DS-M",
        "outputId": "a6eab13a-116d-4aee-8dc1-35012958135a",
        "colab": {
          "base_uri": "https://localhost:8080/"
        }
      },
      "execution_count": 6,
      "outputs": [
        {
          "output_type": "stream",
          "name": "stderr",
          "text": [
            "/usr/local/lib/python3.10/dist-packages/huggingface_hub/utils/_auth.py:94: UserWarning: \n",
            "The secret `HF_TOKEN` does not exist in your Colab secrets.\n",
            "To authenticate with the Hugging Face Hub, create a token in your settings tab (https://huggingface.co/settings/tokens), set it as secret in your Google Colab and restart your session.\n",
            "You will be able to reuse this secret in all of your notebooks.\n",
            "Please note that authentication is recommended but still optional to access public models or datasets.\n",
            "  warnings.warn(\n"
          ]
        }
      ]
    },
    {
      "cell_type": "code",
      "source": [
        "df.head()"
      ],
      "metadata": {
        "id": "Lpvigw37NKBP",
        "outputId": "b33f972d-436b-4da1-a095-cae425800d92",
        "colab": {
          "base_uri": "https://localhost:8080/",
          "height": 206
        }
      },
      "execution_count": 7,
      "outputs": [
        {
          "output_type": "execute_result",
          "data": {
            "text/plain": [
              "                                                Contexts  \\\n",
              "8850   After cancer treatment, you may have a lot of ...   \n",
              "5504   You were in the hospital to have gastric bypas...   \n",
              "5662   Tetanus is an infection of the nervous system ...   \n",
              "7821   Hepatic ischemia is a condition in which the l...   \n",
              "29292                                                      \n",
              "\n",
              "                                               Questions  \\\n",
              "8850   What is (are) Your cancer survivorship care pl...   \n",
              "5504   Do you have information about Gastric bypass s...   \n",
              "5662                  What are the symptoms of Tetanus ?   \n",
              "7821          What is the outlook for Hepatic ischemia ?   \n",
              "29292                             What is (are) Scurvy ?   \n",
              "\n",
              "                                                 Answers  \n",
              "8850                                                      \n",
              "5504                                                      \n",
              "5662                                                      \n",
              "7821                                                      \n",
              "29292  Scurvy is a condition that develops in people ...  "
            ],
            "text/html": [
              "\n",
              "  <div id=\"df-f2ada02d-a014-4afd-a301-b8bf45d5f087\" class=\"colab-df-container\">\n",
              "    <div>\n",
              "<style scoped>\n",
              "    .dataframe tbody tr th:only-of-type {\n",
              "        vertical-align: middle;\n",
              "    }\n",
              "\n",
              "    .dataframe tbody tr th {\n",
              "        vertical-align: top;\n",
              "    }\n",
              "\n",
              "    .dataframe thead th {\n",
              "        text-align: right;\n",
              "    }\n",
              "</style>\n",
              "<table border=\"1\" class=\"dataframe\">\n",
              "  <thead>\n",
              "    <tr style=\"text-align: right;\">\n",
              "      <th></th>\n",
              "      <th>Contexts</th>\n",
              "      <th>Questions</th>\n",
              "      <th>Answers</th>\n",
              "    </tr>\n",
              "  </thead>\n",
              "  <tbody>\n",
              "    <tr>\n",
              "      <th>8850</th>\n",
              "      <td>After cancer treatment, you may have a lot of ...</td>\n",
              "      <td>What is (are) Your cancer survivorship care pl...</td>\n",
              "      <td></td>\n",
              "    </tr>\n",
              "    <tr>\n",
              "      <th>5504</th>\n",
              "      <td>You were in the hospital to have gastric bypas...</td>\n",
              "      <td>Do you have information about Gastric bypass s...</td>\n",
              "      <td></td>\n",
              "    </tr>\n",
              "    <tr>\n",
              "      <th>5662</th>\n",
              "      <td>Tetanus is an infection of the nervous system ...</td>\n",
              "      <td>What are the symptoms of Tetanus ?</td>\n",
              "      <td></td>\n",
              "    </tr>\n",
              "    <tr>\n",
              "      <th>7821</th>\n",
              "      <td>Hepatic ischemia is a condition in which the l...</td>\n",
              "      <td>What is the outlook for Hepatic ischemia ?</td>\n",
              "      <td></td>\n",
              "    </tr>\n",
              "    <tr>\n",
              "      <th>29292</th>\n",
              "      <td></td>\n",
              "      <td>What is (are) Scurvy ?</td>\n",
              "      <td>Scurvy is a condition that develops in people ...</td>\n",
              "    </tr>\n",
              "  </tbody>\n",
              "</table>\n",
              "</div>\n",
              "    <div class=\"colab-df-buttons\">\n",
              "\n",
              "  <div class=\"colab-df-container\">\n",
              "    <button class=\"colab-df-convert\" onclick=\"convertToInteractive('df-f2ada02d-a014-4afd-a301-b8bf45d5f087')\"\n",
              "            title=\"Convert this dataframe to an interactive table.\"\n",
              "            style=\"display:none;\">\n",
              "\n",
              "  <svg xmlns=\"http://www.w3.org/2000/svg\" height=\"24px\" viewBox=\"0 -960 960 960\">\n",
              "    <path d=\"M120-120v-720h720v720H120Zm60-500h600v-160H180v160Zm220 220h160v-160H400v160Zm0 220h160v-160H400v160ZM180-400h160v-160H180v160Zm440 0h160v-160H620v160ZM180-180h160v-160H180v160Zm440 0h160v-160H620v160Z\"/>\n",
              "  </svg>\n",
              "    </button>\n",
              "\n",
              "  <style>\n",
              "    .colab-df-container {\n",
              "      display:flex;\n",
              "      gap: 12px;\n",
              "    }\n",
              "\n",
              "    .colab-df-convert {\n",
              "      background-color: #E8F0FE;\n",
              "      border: none;\n",
              "      border-radius: 50%;\n",
              "      cursor: pointer;\n",
              "      display: none;\n",
              "      fill: #1967D2;\n",
              "      height: 32px;\n",
              "      padding: 0 0 0 0;\n",
              "      width: 32px;\n",
              "    }\n",
              "\n",
              "    .colab-df-convert:hover {\n",
              "      background-color: #E2EBFA;\n",
              "      box-shadow: 0px 1px 2px rgba(60, 64, 67, 0.3), 0px 1px 3px 1px rgba(60, 64, 67, 0.15);\n",
              "      fill: #174EA6;\n",
              "    }\n",
              "\n",
              "    .colab-df-buttons div {\n",
              "      margin-bottom: 4px;\n",
              "    }\n",
              "\n",
              "    [theme=dark] .colab-df-convert {\n",
              "      background-color: #3B4455;\n",
              "      fill: #D2E3FC;\n",
              "    }\n",
              "\n",
              "    [theme=dark] .colab-df-convert:hover {\n",
              "      background-color: #434B5C;\n",
              "      box-shadow: 0px 1px 3px 1px rgba(0, 0, 0, 0.15);\n",
              "      filter: drop-shadow(0px 1px 2px rgba(0, 0, 0, 0.3));\n",
              "      fill: #FFFFFF;\n",
              "    }\n",
              "  </style>\n",
              "\n",
              "    <script>\n",
              "      const buttonEl =\n",
              "        document.querySelector('#df-f2ada02d-a014-4afd-a301-b8bf45d5f087 button.colab-df-convert');\n",
              "      buttonEl.style.display =\n",
              "        google.colab.kernel.accessAllowed ? 'block' : 'none';\n",
              "\n",
              "      async function convertToInteractive(key) {\n",
              "        const element = document.querySelector('#df-f2ada02d-a014-4afd-a301-b8bf45d5f087');\n",
              "        const dataTable =\n",
              "          await google.colab.kernel.invokeFunction('convertToInteractive',\n",
              "                                                    [key], {});\n",
              "        if (!dataTable) return;\n",
              "\n",
              "        const docLinkHtml = 'Like what you see? Visit the ' +\n",
              "          '<a target=\"_blank\" href=https://colab.research.google.com/notebooks/data_table.ipynb>data table notebook</a>'\n",
              "          + ' to learn more about interactive tables.';\n",
              "        element.innerHTML = '';\n",
              "        dataTable['output_type'] = 'display_data';\n",
              "        await google.colab.output.renderOutput(dataTable, element);\n",
              "        const docLink = document.createElement('div');\n",
              "        docLink.innerHTML = docLinkHtml;\n",
              "        element.appendChild(docLink);\n",
              "      }\n",
              "    </script>\n",
              "  </div>\n",
              "\n",
              "\n",
              "<div id=\"df-72142724-08ba-47a2-bb45-98ec1d3f1741\">\n",
              "  <button class=\"colab-df-quickchart\" onclick=\"quickchart('df-72142724-08ba-47a2-bb45-98ec1d3f1741')\"\n",
              "            title=\"Suggest charts\"\n",
              "            style=\"display:none;\">\n",
              "\n",
              "<svg xmlns=\"http://www.w3.org/2000/svg\" height=\"24px\"viewBox=\"0 0 24 24\"\n",
              "     width=\"24px\">\n",
              "    <g>\n",
              "        <path d=\"M19 3H5c-1.1 0-2 .9-2 2v14c0 1.1.9 2 2 2h14c1.1 0 2-.9 2-2V5c0-1.1-.9-2-2-2zM9 17H7v-7h2v7zm4 0h-2V7h2v10zm4 0h-2v-4h2v4z\"/>\n",
              "    </g>\n",
              "</svg>\n",
              "  </button>\n",
              "\n",
              "<style>\n",
              "  .colab-df-quickchart {\n",
              "      --bg-color: #E8F0FE;\n",
              "      --fill-color: #1967D2;\n",
              "      --hover-bg-color: #E2EBFA;\n",
              "      --hover-fill-color: #174EA6;\n",
              "      --disabled-fill-color: #AAA;\n",
              "      --disabled-bg-color: #DDD;\n",
              "  }\n",
              "\n",
              "  [theme=dark] .colab-df-quickchart {\n",
              "      --bg-color: #3B4455;\n",
              "      --fill-color: #D2E3FC;\n",
              "      --hover-bg-color: #434B5C;\n",
              "      --hover-fill-color: #FFFFFF;\n",
              "      --disabled-bg-color: #3B4455;\n",
              "      --disabled-fill-color: #666;\n",
              "  }\n",
              "\n",
              "  .colab-df-quickchart {\n",
              "    background-color: var(--bg-color);\n",
              "    border: none;\n",
              "    border-radius: 50%;\n",
              "    cursor: pointer;\n",
              "    display: none;\n",
              "    fill: var(--fill-color);\n",
              "    height: 32px;\n",
              "    padding: 0;\n",
              "    width: 32px;\n",
              "  }\n",
              "\n",
              "  .colab-df-quickchart:hover {\n",
              "    background-color: var(--hover-bg-color);\n",
              "    box-shadow: 0 1px 2px rgba(60, 64, 67, 0.3), 0 1px 3px 1px rgba(60, 64, 67, 0.15);\n",
              "    fill: var(--button-hover-fill-color);\n",
              "  }\n",
              "\n",
              "  .colab-df-quickchart-complete:disabled,\n",
              "  .colab-df-quickchart-complete:disabled:hover {\n",
              "    background-color: var(--disabled-bg-color);\n",
              "    fill: var(--disabled-fill-color);\n",
              "    box-shadow: none;\n",
              "  }\n",
              "\n",
              "  .colab-df-spinner {\n",
              "    border: 2px solid var(--fill-color);\n",
              "    border-color: transparent;\n",
              "    border-bottom-color: var(--fill-color);\n",
              "    animation:\n",
              "      spin 1s steps(1) infinite;\n",
              "  }\n",
              "\n",
              "  @keyframes spin {\n",
              "    0% {\n",
              "      border-color: transparent;\n",
              "      border-bottom-color: var(--fill-color);\n",
              "      border-left-color: var(--fill-color);\n",
              "    }\n",
              "    20% {\n",
              "      border-color: transparent;\n",
              "      border-left-color: var(--fill-color);\n",
              "      border-top-color: var(--fill-color);\n",
              "    }\n",
              "    30% {\n",
              "      border-color: transparent;\n",
              "      border-left-color: var(--fill-color);\n",
              "      border-top-color: var(--fill-color);\n",
              "      border-right-color: var(--fill-color);\n",
              "    }\n",
              "    40% {\n",
              "      border-color: transparent;\n",
              "      border-right-color: var(--fill-color);\n",
              "      border-top-color: var(--fill-color);\n",
              "    }\n",
              "    60% {\n",
              "      border-color: transparent;\n",
              "      border-right-color: var(--fill-color);\n",
              "    }\n",
              "    80% {\n",
              "      border-color: transparent;\n",
              "      border-right-color: var(--fill-color);\n",
              "      border-bottom-color: var(--fill-color);\n",
              "    }\n",
              "    90% {\n",
              "      border-color: transparent;\n",
              "      border-bottom-color: var(--fill-color);\n",
              "    }\n",
              "  }\n",
              "</style>\n",
              "\n",
              "  <script>\n",
              "    async function quickchart(key) {\n",
              "      const quickchartButtonEl =\n",
              "        document.querySelector('#' + key + ' button');\n",
              "      quickchartButtonEl.disabled = true;  // To prevent multiple clicks.\n",
              "      quickchartButtonEl.classList.add('colab-df-spinner');\n",
              "      try {\n",
              "        const charts = await google.colab.kernel.invokeFunction(\n",
              "            'suggestCharts', [key], {});\n",
              "      } catch (error) {\n",
              "        console.error('Error during call to suggestCharts:', error);\n",
              "      }\n",
              "      quickchartButtonEl.classList.remove('colab-df-spinner');\n",
              "      quickchartButtonEl.classList.add('colab-df-quickchart-complete');\n",
              "    }\n",
              "    (() => {\n",
              "      let quickchartButtonEl =\n",
              "        document.querySelector('#df-72142724-08ba-47a2-bb45-98ec1d3f1741 button');\n",
              "      quickchartButtonEl.style.display =\n",
              "        google.colab.kernel.accessAllowed ? 'block' : 'none';\n",
              "    })();\n",
              "  </script>\n",
              "</div>\n",
              "\n",
              "    </div>\n",
              "  </div>\n"
            ],
            "application/vnd.google.colaboratory.intrinsic+json": {
              "type": "dataframe",
              "variable_name": "df",
              "summary": "{\n  \"name\": \"df\",\n  \"rows\": 50,\n  \"fields\": [\n    {\n      \"column\": \"Contexts\",\n      \"properties\": {\n        \"dtype\": \"string\",\n        \"num_unique_values\": 43,\n        \"samples\": [\n          \"People who take nonsteroidal anti-inflammatory drugs (NSAIDs) (other than aspirin) such as ibuprofen may have a higher risk of having a heart attack or a stroke than people who do not take these medications. These events may happen without warning and may cause death. These problems may develop at any time during treatment, but the risk may be higher for people who take NSAIDs for a long time or at higher doses. Do not take an NSAID such as ibuprofen if you have recently had a heart attack, unless directed to do so by your doctor. Tell your doctor if you or anyone in your family has or has ever had heart disease, a heart attack, or a stroke; if you smoke; and if you have or have ever had high cholesterol, high blood pressure, or diabetes. Get emergency medical help right away if you experience any of the following symptoms: chest pain, shortness of breath, weakness in one part or side of the body, or slurred speech. If you will be undergoing a coronary artery bypass graft (CABG; a type of heart surgery), you should not take ibuprofen right before or right after the surgery. NSAIDs such as ibuprofen may cause ulcers, bleeding, or holes in the esophagus (tube between the mouth and stomach), stomach, or intestine. These problems may develop at any time during treatment, may happen without warning symptoms, and may cause death. The risk may be higher for people who take NSAIDs for a long time, are older in age, have poor health, who smoke, or who drink large amounts of alcohol while taking ibuprofen. Tell your doctor if you take any of the following medications: anticoagulants ('blood thinners'); aspirin; other NSAIDs such as naproxen (Aleve, Naprosyn); oral steroids such as dexamethasone, methylprednisolone (Medrol), and prednisone (Rayos);selective serotonin reuptake inhibitors (SSRIs) such as citalopram (Celexa), fluoxetine (Prozac, Sarafem, Selfemra, in Symbyax), fluvoxamine (Luvox), paroxetine (Brisdelle, Paxil, Pexeva), and sertraline (Zoloft); or serotonin norepinephrine reuptake inhibitors (SNRIs) such as desvenlafaxine (Khedezla, Pristiq), duloxetine (Cymbalta), and venlafaxine (Effexor XR). Also tell your doctor if you have or have ever had ulcers, bleeding in your stomach or intestines, or other bleeding disorders. If you experience any of the following symptoms, stop taking ibuprofen and call your doctor: stomach pain, heartburn, vomit that is bloody or looks like coffee grounds, blood in the stool, or black and tarry stools. Keep all appointments with your doctor and the laboratory. Your doctor will monitor your symptoms carefully and will probably order certain tests to check your body's response to ibuprofen. Be sure to tell your doctor how you are feeling so that your doctor can prescribe the right amount of medication to treat your condition with the lowest risk of serious side effects. Your doctor or pharmacist will give you the manufacturer's patient information sheet (Medication Guide) when you begin treatment with prescription ibuprofen and each time you refill your prescription. Read the information carefully and ask your doctor or pharmacist if you have any questions. You can also visit the Food and Drug Administration (FDA) website (http://www.fda.gov/Drugs/DrugSafety/ucm085729.htm) or the manufacturer's website to obtain the Medication Guide. Prescription ibuprofen is used to relieve pain, tenderness, swelling, and stiffness caused by osteoarthritis (arthritis caused by a breakdown of the lining of the joints) and rheumatoid arthritis (arthritis caused by swelling of the lining of the joints). It is also used to relieve mild to moderate pain, including menstrual pain (pain that happens before or during a menstrual period). Nonprescription ibuprofen is used to reduce fever and to relieve minor aches and pain from headaches, muscle aches, arthritis, menstrual periods, the common cold, toothaches, and backaches. Ibuprofen is in a class of medications called NSAIDs. It works by stopping the body's production of a substance that causes pain, fever, and inflammation. Prescription ibuprofen comes as a tablet and suspension (liquid) to take by mouth. It is usually taken three or four times a day for arthritis or every 4 to 6 hours as needed for pain. Nonprescription ibuprofen comes as a tablet, chewable tablet, capsule, gel capsule, suspension (liquid), and drops (concentrated liquid). Adults and children older than 12 years of age may usually take nonprescription ibuprofen every 4 to 6 hours as needed for pain or fever, but should not take more than 6 doses in 24 hours. Children and infants may usually be given nonprescription ibuprofen every 6 to 8 hours as needed for pain or fever, but should not be given more than 4 doses in 24 hours. Ibuprofen may be taken with food or milk to prevent stomach upset. If you are taking ibuprofen on a regular basis, you should take it at the same time(s) every day. Follow the directions on the package or prescription label carefully, and ask your doctor or pharmacist to explain any part you do not understand. Take ibuprofen exactly as directed. Do not take more or less of it or take it more often than directed by the package label or prescribed by your doctor. Ibuprofen comes alone and in combination with other medications. Some of these combination products are available by prescription only, and some of these combination products are available without a prescription and are used to treat cough and cold symptoms and other conditions. If your doctor has prescribed a medication that contains ibuprofen, you should be careful not to take any nonprescription medications that also contain ibuprofen. Swallow the tablet whole; do not chew or crush it. If you are selecting a product to treat cough or cold symptoms, ask your doctor or pharmacist for advice on which product is best for you. Check nonprescription product labels carefully before using two or more products at the same time. These products may contain the same active ingredient(s) and taking them together could cause you to receive an overdose. This is especially important if you will be giving cough and cold medications to a child. Nonprescription cough and cold combination products, including products that contain ibuprofen, can cause serious side effects or death in young children. Do not give these products to children younger than 4 years of age. If you give these products to children 4 to 11 years of age, use caution and follow the package directions carefully. If you are giving ibuprofen or a combination product that contains ibuprofen to a child, read the package label carefully to be sure that it is the right product for a child of that age. Do not give ibuprofen products that are made for adults to children. Before you give an ibuprofen product to a child, check the package label to find out how much medication the child should receive. Give the dose that matches the child's age on the chart. Ask the child's doctor if you don't know how much medication to give the child. Shake the suspension and drops well before each use to mix the medication evenly. Use the measuring cup provided to measure each dose of the suspension, and use the dosing device provided to measure each dose of the drops. Stop taking nonprescription ibuprofen and call your doctor if your symptoms get worse, you develop new or unexpected symptoms, the part of your body that was painful becomes red or swollen, your pain lasts for more than 10 days, or your fever lasts more than 3 days. Stop giving nonprescription ibuprofen to your child and call your child's doctor if your child does not start to feel better during the first 24 hours of treatment. Also stop giving nonprescription ibuprofen to your child and call your child's doctor if your child develops new symptoms, including redness or swelling on the painful part of his body, or if your child's pain or fever get worse or lasts longer than 3 days. Do not give nonprescription ibuprofen to a child who has a sore throat that is severe or does not go away, or that comes along with fever, headache, nausea, or vomiting. Call the child's doctor right away, because these symptoms may be signs of a more serious condition. Ibuprofen is also sometimes used to treat ankylosing spondylitis (arthritis that mainly affects the spine), gouty arthritis (joint pain caused by a build-up of certain substances in the joints), and psoriatic arthritis (arthritis that occurs with a long-lasting skin disease that causes scaling and swelling). Talk to your doctor about the risks of using this drug for your condition. This medication is sometimes prescribed for other uses; ask your doctor or pharmacist for more information. Unless your doctor tells you otherwise, continue your normal diet. If you are taking ibuprofen on a regular basis, take the missed dose as soon as you remember it. However, if it is almost time for the next dose, skip the missed dose and continue your regular dosing schedule. Do not take a double dose to make up for a missed one. Ibuprofen may cause other side effects. Call your doctor if you have any unusual problems while taking this medication. If you experience a serious side effect, you or your doctor may send a report to the Food and Drug Administration's (FDA) MedWatch Adverse Event Reporting program online (http://www.fda.gov/Safety/MedWatch) or by phone (1-800-332-1088). Keep this medication in the container it came in, tightly closed, and out of reach of children. Store it at room temperature and away from excess heat and moisture (not in the bathroom). It is important to keep all medication out of sight and reach of children as many containers (such as weekly pill minders and those for eye drops, creams, patches, and inhalers) are not child-resistant and young children can open them easily. To protect young children from poisoning, always lock safety caps and immediately place the medication in a safe location \\u00e2\\u0080\\u0093 one that is up and away and out of their sight and reach. http://www.upandaway.org Unneeded medications should be disposed of in special ways to ensure that pets, children, and other people cannot consume them.  However, you should not flush this medication down the toilet. Instead, the best way to dispose of your medication is through a medicine take-back program. Talk to your pharmacist or contact your local garbage/recycling department to learn about take-back programs in your community.  See the FDA's Safe Disposal of Medicines website (http://goo.gl/c4Rm4p) for more information if you do not have access to a take-back program. In case of overdose, call the poison control helpline at 1-800-222-1222. Information is also available online at https://www.poisonhelp.org/help. If the victim has collapsed, had a seizure, has trouble breathing, or can't be awakened, immediately call emergency services at 911. If you are taking prescription ibuprofen, do not let anyone else take your medication. Ask your pharmacist any questions you have about refilling your prescription. It is important for you to keep a written list of all of the prescription and nonprescription (over-the-counter) medicines you are taking, as well as any products such as vitamins, minerals, or other dietary supplements. You should bring this list with you each time you visit a doctor or if you are admitted to a hospital. It is also important information to carry with you in case of emergencies.  \\u00c2\\u00b6 This branded product is no longer on the market. Generic alternatives may be available.\",\n          \"Potocki-Shaffer syndrome is a disorder that affects development of the bones, nerve cells in the brain, and other tissues. Most people with this condition have multiple noncancerous (benign) bone tumors called osteochondromas. In rare instances, these tumors become cancerous. People with Potocki-Shaffer syndrome also have enlarged openings in the two bones that make up much of the top and sides of the skull (enlarged parietal foramina). These abnormal openings form extra \\\"soft spots\\\" on the head, in addition to the two that newborns normally have. Unlike the usual newborn soft spots, the enlarged parietal foramina remain open throughout life. The signs and symptoms of Potocki-Shaffer syndrome vary widely. In addition to multiple osteochondromas and enlarged parietal foramina, affected individuals often have intellectual disability and delayed development of speech, motor skills (such as sitting and walking), and social skills. Many people with this condition have distinctive facial features, which can include a wide, short skull (brachycephaly); a prominent forehead; a narrow bridge of the nose; a shortened distance between the nose and upper lip (a short philtrum); and a downturned mouth. Less commonly, Potocki-Shaffer syndrome causes vision problems, additional skeletal abnormalities, and defects in the heart, kidneys, and urinary tract. Potocki-Shaffer syndrome is a rare condition, although its prevalence is unknown. Fewer than 100 cases have been reported in the scientific literature. Potocki-Shaffer syndrome (also known as proximal 11p deletion syndrome) is caused by a deletion of genetic material from the short (p) arm of chromosome 11 at a position designated 11p11.2. The size of the deletion varies among affected individuals. Studies suggest that the full spectrum of features is caused by a deletion of at least 2.1 million DNA building blocks (base pairs), also written as 2.1 megabases (Mb). The loss of multiple genes within the deleted region causes the varied signs and symptoms of Potocki-Shaffer syndrome. In particular, deletion of the EXT2, ALX4, and PHF21A genes are associated with several of the characteristic features of Potocki-Shaffer syndrome. Research shows that loss of the EXT2 gene is associated with the development of multiple osteochondromas in affected individuals. Deletion of another gene, ALX4, causes the enlarged parietal foramina found in people with this condition. In addition, loss of the PHF21A gene is the cause of intellectual disability and distinctive facial features in many people with the condition. The loss of additional genes in the deleted region likely contributes to the other features of Potocki-Shaffer syndrome. Potocki-Shaffer syndrome follows an autosomal dominant inheritance pattern, which means a deletion of genetic material from one copy of chromosome 11 is sufficient to cause the disorder. In some cases, an affected person inherits the chromosome with a deleted segment from an affected parent. More commonly, the condition results from a deletion that occurs during the formation of reproductive cells (eggs and sperm) in a parent or in early fetal development. These cases occur in people with no history of the disorder in their family. The information on this site should not be used as a substitute for professional medical care or advice. Contact a health care provider if you have questions about your health.\",\n          \"White spots in the pupil is a condition that causes the pupil of the eye to look white instead of black. The pupil of the human eye is normally black. In flash photographs the pupil may appear red. This is called the \\\"red reflex\\\" by health care providers and is normal. Sometimes, the pupil of the eye may appear white, or the normal red reflex may appear to be white. This is not a normal condition, and you need to see an eye care provider right away. There are many different causes of white pupil or white reflex. Other conditions also can mimic white pupil. If the cornea, which is normally clear, becomes cloudy, it may look similar to a white pupil. Although the causes of a cloudy or white cornea are different from those of a white pupil or white reflex, these problems also need medical attention right away. Cataracts may also cause the pupil to appear white. Causes of this condition may include: Most causes of white pupil will cause decreased vision. This may often occur before the pupil appears to be white.  Detecting a white pupil is especially important in infants. Babies are unable to communicate to others that their vision is decreased. It is also harder to measure an infant's vision during an eye exam. If you see a white pupil, call your provider right away. Well-child exams routinely screen for a white pupil in children. A child that develops a white pupil or cloudy cornea needs immediate attention, preferably from an eye specialist. It is important to get diagnosed early if the problem is caused by retinoblastoma since this disease can be fatal. Contact your provider if you notice any color changes in the pupil or cornea of the eye. The provider will do a physical exam and ask about your symptoms and medical history.  The physical exam will include a detailed eye examination. The following tests may be performed: Other tests may that be done include a head CT or MRI scan. Leukocoria Cioffi GA, LIebmann JM. Diseases of the visual system. In: Goldman L, Schafer AI, eds. Goldman-Cecil Medicine. 26th ed. Philadelphia, PA: Elsevier; 2020:chap 395. Olitsky SE, Marsh JD. Abnormalities of the pupil and iris. In: Kliegman RM, St. Geme JW, Blum NJ, Shah SS, Tasker RC, Wilson KM, eds. Nelson Textbook of Pediatrics. 21st ed. Philadelphia, PA: Elsevier; 2020:chap 640. Vagge A, Wangtiraumnuay N, Pellegrini M, Scotto R, Iester M, Traverso CE. Evaluation of a free public smartphone application to detect leukocoria in high-risk children aged 1 to 6 years. J Pediatr Ophthalmol Strabismus. 2019;56(4):229-232.PMID: 31322712 pubmed.ncbi.nlm.nih.gov/31322712/. Updated by: Franklin W. Lusby, MD, Ophthalmologist, Lusby Vision Institute, La Jolla, CA. Also reviewed by David Zieve, MD, MHA, Medical Director, Brenda Conaway, Editorial Director, and the A.D.A.M. Editorial team.  \"\n        ],\n        \"semantic_type\": \"\",\n        \"description\": \"\"\n      }\n    },\n    {\n      \"column\": \"Questions\",\n      \"properties\": {\n        \"dtype\": \"string\",\n        \"num_unique_values\": 50,\n        \"samples\": [\n          \"What are the symptoms of Myocarditis - pediatric ?\",\n          \"Do you have information about Spleen removal\",\n          \"Are there safety concerns or special precautions about Zolpidem ?\"\n        ],\n        \"semantic_type\": \"\",\n        \"description\": \"\"\n      }\n    },\n    {\n      \"column\": \"Answers\",\n      \"properties\": {\n        \"dtype\": \"category\",\n        \"num_unique_values\": 16,\n        \"samples\": [\n          \"\",\n          \"Scurvy is a condition that develops in people who do not consume an adequate amount of vitamin C in their diet. Although scurvy is relatively rare in the United States, it continues to be a problem in malnourished populations around the world (such as impoverished, underdeveloped third world countries). Early features of the condition include general weakness, fatigue and aching limbs. If left untreated, more serious problems can develop such as anemia, gum disease, and skin hemorrhages. Symptoms generally develop after at least 3 months of severe or total vitamin C deficiency. Treatment consists of vitamin C supplements taken by mouth.\",\n          \"What are the signs and symptoms of Varicella virus antenatal infection? The Human Phenotype Ontology provides the following list of signs and symptoms for Varicella virus antenatal infection. If the information is available, the table below includes how often the symptom is seen in people with this condition. You can use the MedlinePlus Medical Dictionary to look up the definitions for these medical terms. Signs and Symptoms Approximate number of patients (when available) Atypical scarring of skin 90% Intrauterine growth retardation 90% Aplasia/Hypoplasia affecting the eye 50% Cataract 50% Cerebral cortical atrophy 50% Cognitive impairment 50% Microcephaly 50% Micromelia 50% The Human Phenotype Ontology (HPO) has collected information on how often a sign or symptom occurs in a condition. Much of this information comes from Orphanet, a European rare disease database. The frequency of a sign or symptom is usually listed as a rough estimate of the percentage of patients who have that feature. The frequency may also be listed as a fraction. The first number of the fraction is how many people had the symptom, and the second number is the total number of people who were examined in one study. For example, a frequency of 25/25 means that in a study of 25 people all patients were found to have that symptom. Because these frequencies are based on a specific study, the fractions may be different if another group of patients are examined. Sometimes, no information on frequency is available. In these cases, the sign or symptom may be rare or common.\"\n        ],\n        \"semantic_type\": \"\",\n        \"description\": \"\"\n      }\n    }\n  ]\n}"
            }
          },
          "metadata": {},
          "execution_count": 7
        }
      ]
    },
    {
      "cell_type": "code",
      "source": [
        "df.shape"
      ],
      "metadata": {
        "id": "PYoEcKLKSX5E",
        "outputId": "f075e2fe-4083-42d7-b519-f5f08dc80fbf",
        "colab": {
          "base_uri": "https://localhost:8080/"
        }
      },
      "execution_count": 9,
      "outputs": [
        {
          "output_type": "execute_result",
          "data": {
            "text/plain": [
              "(50, 3)"
            ]
          },
          "metadata": {},
          "execution_count": 9
        }
      ]
    },
    {
      "cell_type": "code",
      "source": [
        "dataset.insert(df.to_dict('records'))"
      ],
      "metadata": {
        "id": "wXjfaqfyEvtO"
      },
      "execution_count": 10,
      "outputs": []
    },
    {
      "cell_type": "code",
      "source": [
        "dataset.to_pandas().head()"
      ],
      "metadata": {
        "id": "qvParBO8S7L_",
        "outputId": "8bd250c9-cd85-4e90-e4c2-4a513f771890",
        "colab": {
          "base_uri": "https://localhost:8080/",
          "height": 206
        }
      },
      "execution_count": 11,
      "outputs": [
        {
          "output_type": "execute_result",
          "data": {
            "text/plain": [
              "                                             Answers  \\\n",
              "0  1q21.1 microdeletion is a chromosomal change i...   \n",
              "1                                                      \n",
              "2                                                      \n",
              "3                                                      \n",
              "4  What are the signs and symptoms of CHOPS syndr...   \n",
              "\n",
              "                                           Questions  \\\n",
              "0               What is (are) 1q21.1 microdeletion ?   \n",
              "1       What are the treatments for Diverticulitis ?   \n",
              "2  What are the side effects or risks of Neomycin...   \n",
              "3                What are the symptoms of Dementia ?   \n",
              "4          What are the symptoms of CHOPS syndrome ?   \n",
              "\n",
              "                                            Contexts  \\\n",
              "0  1q21.1 microdeletion is a chromosomal change i...   \n",
              "1  Diverticula are small, bulging sacs or pouches...   \n",
              "2  Neomycin, polymyxin, and bacitracin ophthalmic...   \n",
              "3  Dementia is a loss of brain function that occu...   \n",
              "4                                                      \n",
              "\n",
              "                                     id  \n",
              "0  01944e4b-98dc-709b-99bf-9dbcf57d34c1  \n",
              "1  01944e4b-98db-72f0-862c-0f6111fa1114  \n",
              "2  01944e4b-98da-7357-ac0e-948c3be43d76  \n",
              "3  01944e4b-98d9-7980-b39d-d8b8cbcd3fb3  \n",
              "4  01944e4b-98d8-7b2d-ba58-12e9562c053c  "
            ],
            "text/html": [
              "\n",
              "  <div id=\"df-962b939e-2ed5-4972-91cc-1abe0d3f4ae5\" class=\"colab-df-container\">\n",
              "    <div>\n",
              "<style scoped>\n",
              "    .dataframe tbody tr th:only-of-type {\n",
              "        vertical-align: middle;\n",
              "    }\n",
              "\n",
              "    .dataframe tbody tr th {\n",
              "        vertical-align: top;\n",
              "    }\n",
              "\n",
              "    .dataframe thead th {\n",
              "        text-align: right;\n",
              "    }\n",
              "</style>\n",
              "<table border=\"1\" class=\"dataframe\">\n",
              "  <thead>\n",
              "    <tr style=\"text-align: right;\">\n",
              "      <th></th>\n",
              "      <th>Answers</th>\n",
              "      <th>Questions</th>\n",
              "      <th>Contexts</th>\n",
              "      <th>id</th>\n",
              "    </tr>\n",
              "  </thead>\n",
              "  <tbody>\n",
              "    <tr>\n",
              "      <th>0</th>\n",
              "      <td>1q21.1 microdeletion is a chromosomal change i...</td>\n",
              "      <td>What is (are) 1q21.1 microdeletion ?</td>\n",
              "      <td>1q21.1 microdeletion is a chromosomal change i...</td>\n",
              "      <td>01944e4b-98dc-709b-99bf-9dbcf57d34c1</td>\n",
              "    </tr>\n",
              "    <tr>\n",
              "      <th>1</th>\n",
              "      <td></td>\n",
              "      <td>What are the treatments for Diverticulitis ?</td>\n",
              "      <td>Diverticula are small, bulging sacs or pouches...</td>\n",
              "      <td>01944e4b-98db-72f0-862c-0f6111fa1114</td>\n",
              "    </tr>\n",
              "    <tr>\n",
              "      <th>2</th>\n",
              "      <td></td>\n",
              "      <td>What are the side effects or risks of Neomycin...</td>\n",
              "      <td>Neomycin, polymyxin, and bacitracin ophthalmic...</td>\n",
              "      <td>01944e4b-98da-7357-ac0e-948c3be43d76</td>\n",
              "    </tr>\n",
              "    <tr>\n",
              "      <th>3</th>\n",
              "      <td></td>\n",
              "      <td>What are the symptoms of Dementia ?</td>\n",
              "      <td>Dementia is a loss of brain function that occu...</td>\n",
              "      <td>01944e4b-98d9-7980-b39d-d8b8cbcd3fb3</td>\n",
              "    </tr>\n",
              "    <tr>\n",
              "      <th>4</th>\n",
              "      <td>What are the signs and symptoms of CHOPS syndr...</td>\n",
              "      <td>What are the symptoms of CHOPS syndrome ?</td>\n",
              "      <td></td>\n",
              "      <td>01944e4b-98d8-7b2d-ba58-12e9562c053c</td>\n",
              "    </tr>\n",
              "  </tbody>\n",
              "</table>\n",
              "</div>\n",
              "    <div class=\"colab-df-buttons\">\n",
              "\n",
              "  <div class=\"colab-df-container\">\n",
              "    <button class=\"colab-df-convert\" onclick=\"convertToInteractive('df-962b939e-2ed5-4972-91cc-1abe0d3f4ae5')\"\n",
              "            title=\"Convert this dataframe to an interactive table.\"\n",
              "            style=\"display:none;\">\n",
              "\n",
              "  <svg xmlns=\"http://www.w3.org/2000/svg\" height=\"24px\" viewBox=\"0 -960 960 960\">\n",
              "    <path d=\"M120-120v-720h720v720H120Zm60-500h600v-160H180v160Zm220 220h160v-160H400v160Zm0 220h160v-160H400v160ZM180-400h160v-160H180v160Zm440 0h160v-160H620v160ZM180-180h160v-160H180v160Zm440 0h160v-160H620v160Z\"/>\n",
              "  </svg>\n",
              "    </button>\n",
              "\n",
              "  <style>\n",
              "    .colab-df-container {\n",
              "      display:flex;\n",
              "      gap: 12px;\n",
              "    }\n",
              "\n",
              "    .colab-df-convert {\n",
              "      background-color: #E8F0FE;\n",
              "      border: none;\n",
              "      border-radius: 50%;\n",
              "      cursor: pointer;\n",
              "      display: none;\n",
              "      fill: #1967D2;\n",
              "      height: 32px;\n",
              "      padding: 0 0 0 0;\n",
              "      width: 32px;\n",
              "    }\n",
              "\n",
              "    .colab-df-convert:hover {\n",
              "      background-color: #E2EBFA;\n",
              "      box-shadow: 0px 1px 2px rgba(60, 64, 67, 0.3), 0px 1px 3px 1px rgba(60, 64, 67, 0.15);\n",
              "      fill: #174EA6;\n",
              "    }\n",
              "\n",
              "    .colab-df-buttons div {\n",
              "      margin-bottom: 4px;\n",
              "    }\n",
              "\n",
              "    [theme=dark] .colab-df-convert {\n",
              "      background-color: #3B4455;\n",
              "      fill: #D2E3FC;\n",
              "    }\n",
              "\n",
              "    [theme=dark] .colab-df-convert:hover {\n",
              "      background-color: #434B5C;\n",
              "      box-shadow: 0px 1px 3px 1px rgba(0, 0, 0, 0.15);\n",
              "      filter: drop-shadow(0px 1px 2px rgba(0, 0, 0, 0.3));\n",
              "      fill: #FFFFFF;\n",
              "    }\n",
              "  </style>\n",
              "\n",
              "    <script>\n",
              "      const buttonEl =\n",
              "        document.querySelector('#df-962b939e-2ed5-4972-91cc-1abe0d3f4ae5 button.colab-df-convert');\n",
              "      buttonEl.style.display =\n",
              "        google.colab.kernel.accessAllowed ? 'block' : 'none';\n",
              "\n",
              "      async function convertToInteractive(key) {\n",
              "        const element = document.querySelector('#df-962b939e-2ed5-4972-91cc-1abe0d3f4ae5');\n",
              "        const dataTable =\n",
              "          await google.colab.kernel.invokeFunction('convertToInteractive',\n",
              "                                                    [key], {});\n",
              "        if (!dataTable) return;\n",
              "\n",
              "        const docLinkHtml = 'Like what you see? Visit the ' +\n",
              "          '<a target=\"_blank\" href=https://colab.research.google.com/notebooks/data_table.ipynb>data table notebook</a>'\n",
              "          + ' to learn more about interactive tables.';\n",
              "        element.innerHTML = '';\n",
              "        dataTable['output_type'] = 'display_data';\n",
              "        await google.colab.output.renderOutput(dataTable, element);\n",
              "        const docLink = document.createElement('div');\n",
              "        docLink.innerHTML = docLinkHtml;\n",
              "        element.appendChild(docLink);\n",
              "      }\n",
              "    </script>\n",
              "  </div>\n",
              "\n",
              "\n",
              "<div id=\"df-5f7efcb6-9471-4c82-a3e3-5643c8cd68a7\">\n",
              "  <button class=\"colab-df-quickchart\" onclick=\"quickchart('df-5f7efcb6-9471-4c82-a3e3-5643c8cd68a7')\"\n",
              "            title=\"Suggest charts\"\n",
              "            style=\"display:none;\">\n",
              "\n",
              "<svg xmlns=\"http://www.w3.org/2000/svg\" height=\"24px\"viewBox=\"0 0 24 24\"\n",
              "     width=\"24px\">\n",
              "    <g>\n",
              "        <path d=\"M19 3H5c-1.1 0-2 .9-2 2v14c0 1.1.9 2 2 2h14c1.1 0 2-.9 2-2V5c0-1.1-.9-2-2-2zM9 17H7v-7h2v7zm4 0h-2V7h2v10zm4 0h-2v-4h2v4z\"/>\n",
              "    </g>\n",
              "</svg>\n",
              "  </button>\n",
              "\n",
              "<style>\n",
              "  .colab-df-quickchart {\n",
              "      --bg-color: #E8F0FE;\n",
              "      --fill-color: #1967D2;\n",
              "      --hover-bg-color: #E2EBFA;\n",
              "      --hover-fill-color: #174EA6;\n",
              "      --disabled-fill-color: #AAA;\n",
              "      --disabled-bg-color: #DDD;\n",
              "  }\n",
              "\n",
              "  [theme=dark] .colab-df-quickchart {\n",
              "      --bg-color: #3B4455;\n",
              "      --fill-color: #D2E3FC;\n",
              "      --hover-bg-color: #434B5C;\n",
              "      --hover-fill-color: #FFFFFF;\n",
              "      --disabled-bg-color: #3B4455;\n",
              "      --disabled-fill-color: #666;\n",
              "  }\n",
              "\n",
              "  .colab-df-quickchart {\n",
              "    background-color: var(--bg-color);\n",
              "    border: none;\n",
              "    border-radius: 50%;\n",
              "    cursor: pointer;\n",
              "    display: none;\n",
              "    fill: var(--fill-color);\n",
              "    height: 32px;\n",
              "    padding: 0;\n",
              "    width: 32px;\n",
              "  }\n",
              "\n",
              "  .colab-df-quickchart:hover {\n",
              "    background-color: var(--hover-bg-color);\n",
              "    box-shadow: 0 1px 2px rgba(60, 64, 67, 0.3), 0 1px 3px 1px rgba(60, 64, 67, 0.15);\n",
              "    fill: var(--button-hover-fill-color);\n",
              "  }\n",
              "\n",
              "  .colab-df-quickchart-complete:disabled,\n",
              "  .colab-df-quickchart-complete:disabled:hover {\n",
              "    background-color: var(--disabled-bg-color);\n",
              "    fill: var(--disabled-fill-color);\n",
              "    box-shadow: none;\n",
              "  }\n",
              "\n",
              "  .colab-df-spinner {\n",
              "    border: 2px solid var(--fill-color);\n",
              "    border-color: transparent;\n",
              "    border-bottom-color: var(--fill-color);\n",
              "    animation:\n",
              "      spin 1s steps(1) infinite;\n",
              "  }\n",
              "\n",
              "  @keyframes spin {\n",
              "    0% {\n",
              "      border-color: transparent;\n",
              "      border-bottom-color: var(--fill-color);\n",
              "      border-left-color: var(--fill-color);\n",
              "    }\n",
              "    20% {\n",
              "      border-color: transparent;\n",
              "      border-left-color: var(--fill-color);\n",
              "      border-top-color: var(--fill-color);\n",
              "    }\n",
              "    30% {\n",
              "      border-color: transparent;\n",
              "      border-left-color: var(--fill-color);\n",
              "      border-top-color: var(--fill-color);\n",
              "      border-right-color: var(--fill-color);\n",
              "    }\n",
              "    40% {\n",
              "      border-color: transparent;\n",
              "      border-right-color: var(--fill-color);\n",
              "      border-top-color: var(--fill-color);\n",
              "    }\n",
              "    60% {\n",
              "      border-color: transparent;\n",
              "      border-right-color: var(--fill-color);\n",
              "    }\n",
              "    80% {\n",
              "      border-color: transparent;\n",
              "      border-right-color: var(--fill-color);\n",
              "      border-bottom-color: var(--fill-color);\n",
              "    }\n",
              "    90% {\n",
              "      border-color: transparent;\n",
              "      border-bottom-color: var(--fill-color);\n",
              "    }\n",
              "  }\n",
              "</style>\n",
              "\n",
              "  <script>\n",
              "    async function quickchart(key) {\n",
              "      const quickchartButtonEl =\n",
              "        document.querySelector('#' + key + ' button');\n",
              "      quickchartButtonEl.disabled = true;  // To prevent multiple clicks.\n",
              "      quickchartButtonEl.classList.add('colab-df-spinner');\n",
              "      try {\n",
              "        const charts = await google.colab.kernel.invokeFunction(\n",
              "            'suggestCharts', [key], {});\n",
              "      } catch (error) {\n",
              "        console.error('Error during call to suggestCharts:', error);\n",
              "      }\n",
              "      quickchartButtonEl.classList.remove('colab-df-spinner');\n",
              "      quickchartButtonEl.classList.add('colab-df-quickchart-complete');\n",
              "    }\n",
              "    (() => {\n",
              "      let quickchartButtonEl =\n",
              "        document.querySelector('#df-5f7efcb6-9471-4c82-a3e3-5643c8cd68a7 button');\n",
              "      quickchartButtonEl.style.display =\n",
              "        google.colab.kernel.accessAllowed ? 'block' : 'none';\n",
              "    })();\n",
              "  </script>\n",
              "</div>\n",
              "\n",
              "    </div>\n",
              "  </div>\n"
            ],
            "application/vnd.google.colaboratory.intrinsic+json": {
              "type": "dataframe",
              "summary": "{\n  \"name\": \"dataset\",\n  \"rows\": 5,\n  \"fields\": [\n    {\n      \"column\": \"Answers\",\n      \"properties\": {\n        \"dtype\": \"string\",\n        \"num_unique_values\": 3,\n        \"samples\": [\n          \"1q21.1 microdeletion is a chromosomal change in which a small piece of chromosome 1 is deleted in each cell. The deletion occurs on the long (q) arm of the chromosome in a region designated q21.1. This chromosomal change increases the risk of delayed development, intellectual disability, physical abnormalities, and neurological and psychiatric problems. However, some people with a 1q21.1 microdeletion do not appear to have any associated features.  About 75 percent of all children with a 1q21.1 microdeletion have delayed development, particularly affecting the development of motor skills such as sitting, standing, and walking. The intellectual disability and learning problems associated with this genetic change are usually mild.  Distinctive facial features can also be associated with 1q21.1 microdeletions. The changes are usually subtle and can include a prominent forehead; a large, rounded nasal tip; a long space between the nose and upper lip (philtrum); and a high, arched roof of the mouth (palate). Other common signs and symptoms of 1q21.1 microdeletions include an unusually small head (microcephaly), short stature, and eye problems such as clouding of the lenses (cataracts). Less frequently, 1q21.1 microdeletions are associated with heart defects, abnormalities of the genitalia or urinary system, bone abnormalities (particularly in the hands and feet), and hearing loss.  Neurological problems that have been reported in people with a 1q21.1 microdeletion include seizures and weak muscle tone (hypotonia). Psychiatric or behavioral problems affect a small percentage of people with this genetic change. These include developmental conditions called autism spectrum disorders that affect communication and social interaction, attention deficit hyperactivity disorder (ADHD), and sleep disturbances. Studies suggest that deletions of genetic material from the 1q21.1 region may also be risk factors for schizophrenia.  Some people with a 1q21.1 microdeletion do not have any of the intellectual, physical, or psychiatric features described above. In these individuals, the microdeletion is often detected when they undergo genetic testing because they have a relative with the chromosomal change. It is unknown why 1q21.1 microdeletions cause cognitive and physical changes in some individuals but few or no health problems in others, even within the same family.\",\n          \"\",\n          \"What are the signs and symptoms of CHOPS syndrome? The Human Phenotype Ontology provides the following list of signs and symptoms for CHOPS syndrome. If the information is available, the table below includes how often the symptom is seen in people with this condition. You can use the MedlinePlus Medical Dictionary to look up the definitions for these medical terms. Signs and Symptoms Approximate number of patients (when available) Cataract 5% Hearing impairment 5% Horseshoe kidney 5% Optic atrophy 5% Abnormality of the cardiac septa - Aspiration pneumonia - Brachydactyly syndrome - Chronic lung disease - Coarse facial features - Cryptorchidism - Downturned corners of mouth - Gastroesophageal reflux - Hypertelorism - Intellectual disability - Laryngomalacia - Long eyelashes - Obesity - Patent ductus arteriosus - Proptosis - Round face - Short nose - Short stature - Thick eyebrow - Thick hair - Tracheal stenosis - Vesicoureteral reflux - The Human Phenotype Ontology (HPO) has collected information on how often a sign or symptom occurs in a condition. Much of this information comes from Orphanet, a European rare disease database. The frequency of a sign or symptom is usually listed as a rough estimate of the percentage of patients who have that feature. The frequency may also be listed as a fraction. The first number of the fraction is how many people had the symptom, and the second number is the total number of people who were examined in one study. For example, a frequency of 25/25 means that in a study of 25 people all patients were found to have that symptom. Because these frequencies are based on a specific study, the fractions may be different if another group of patients are examined. Sometimes, no information on frequency is available. In these cases, the sign or symptom may be rare or common.\"\n        ],\n        \"semantic_type\": \"\",\n        \"description\": \"\"\n      }\n    },\n    {\n      \"column\": \"Questions\",\n      \"properties\": {\n        \"dtype\": \"string\",\n        \"num_unique_values\": 5,\n        \"samples\": [\n          \"What are the treatments for Diverticulitis ?\",\n          \"What are the symptoms of CHOPS syndrome ?\",\n          \"What are the side effects or risks of Neomycin, Polymyxin, and Bacitracin Ophthalmic ?\"\n        ],\n        \"semantic_type\": \"\",\n        \"description\": \"\"\n      }\n    },\n    {\n      \"column\": \"Contexts\",\n      \"properties\": {\n        \"dtype\": \"string\",\n        \"num_unique_values\": 5,\n        \"samples\": [\n          \"Diverticula are small, bulging sacs or pouches that form on the inner wall of the intestine. Diverticulitis occurs when these pouches become inflamed or infected. Most often, these pouches are in the lower part of the large intestine (colon). The formation of pouches or sacs on the intestinal lining is called diverticulosis. It is found in more than half of Americans over age 60. However, no one knows exactly what causes the pouches to form. Eating a low-fiber diet mostly made up of processed foods may be a cause. Constipation and hard stools are more likely when you do not eat enough fiber. Straining to pass stools increases the pressure in the colon or intestines, which may lead to the formation of these pouches. In some cases, one of the pouches can become inflamed and a small tear develops in the lining of the intestine. This can lead to an infection at the site. When this occurs, the condition is called diverticulitis. The cause of diverticulitis is not known.  People with diverticulosis often have no symptoms, but they may have bloating and cramping in the lower part of the belly. Rarely, they may notice blood in their stool or on toilet paper. Symptoms of diverticulitis are more severe and often start suddenly, but they may become worse over a few days. They include: Your health care provider will examine you. You may need blood tests to see if you have an infection. Other tests that help diagnose diverticulitis may include: The treatment of diverticulitis depends on how serious the symptoms are. Some people may need to be in the hospital, but most of the time, the problem can be treated at home. To help with the pain, your provider may suggest that you: The provider may treat you with antibiotics. After you are better, your provider will suggest that you add more fiber to your diet. Eating more fiber can help prevent future attacks. If you have bloating or gas, reduce the amount of fiber you eat for a few days. Once these pouches have formed, you will have them for life. Diverticulitis can return, but some providers think a high-fiber diet may lessen your chances of a recurrence. Most often, this is a mild condition that responds well to treatment. Some people will have more than one attack of diverticulitis. Surgery may be needed in some cases. Many times, providers will recommend that you have a colonoscopy after diverticulitis has healed. This can help to rule out other conditions that could mimic diverticulitis symptoms. More serious problems that may develop are: Contact your provider if symptoms of diverticulitis occur. Also call if you have diverticulitis and you have: Bhuket TP, Stollman NH. Diverticular disease of the colon. In: Feldman M, Friedman LS, Brandt LJ, eds. Sleisenger and Fordtran's Gastrointestinal and Liver Disease. 11th ed. Philadelphia, PA: Elsevier; 2021:chap 121. Kuemmerle JF. Inflammatory and anatomic diseases of the intestine, peritoneum, mesentery, and omentum. In: Goldman L, Schafer AI, eds. Goldman-Cecil Medicine. 26th ed. Philadelphia, PA: Elsevier; 2020:chap 133. Updated by: Michael M. Phillips, MD, Emeritus Professor of Medicine, The George Washington University School of Medicine, Washington, DC. Also reviewed by David C. Dugdale, MD, Medical Director, Brenda Conaway, Editorial Director, and the A.D.A.M. Editorial team.  \",\n          \"\",\n          \"Neomycin, polymyxin, and bacitracin ophthalmic combination is used to treat eye and eyelid infections. Neomycin, polymyxin, and bacitracin are in a class of medications called antibiotics. Neomycin, polymyxin, and bacitracin combination works by stopping the growth of bacteria infecting a surface of the eye. Ophthalmic neomycin, polymyxin, and bacitracin combination comes as an ointment to apply inside the lower lid of an infected eye. The ointment is usually applied to the eye every 3 to 4 hours for 7 to 10 days, as directed by your doctor. Follow the directions on your prescription label carefully, and ask your doctor or pharmacist to explain any part you do not understand. Use neomycin, polymyxin, and bacitracin ophthalmic ointment exactly as directed. Do not use more or less of it or use it more often than prescribed by your doctor. Your eye or eyelid infection should begin getting better during the first few days of treatment with neomycin, polymyxin, and bacitracin combination. If your symptoms do not go away or get worse, call your doctor. Continue to use neomycin, polymyxin, and bacitracin combination as directed, even if your symptoms improve. Do not stop using neomycin, polymyxin, and bacitracin combination without talking to your doctor. If you stop using this medication too soon or skip doses, your infection may not be completely cured and bacteria may become resistant to antibiotics. This medication is for use in the eye only. Do not let neomycin, polymyxin, and bacitracin combination get into your nose or mouth, and do not swallow it. Never share your tube of ophthalmic ointment, even with someone who was also prescribed this medication. If more than one person uses the same tube, infection may spread. This medication may be prescribed for other uses; ask your doctor or pharmacist for more information. Unless your doctor tells you otherwise, continue your normal diet. Apply the missed dose as soon as you remember it. However, if it is almost time for the next dose, skip the missed dose and continue your regular dosing schedule. Do not apply a double dose to make up for a missed one. Neomycin, polymyxin, and bacitracin combination may cause other side effects. Call your doctor if you have any unusual problems while using this medication. If you experience a serious side effect, you or your doctor may send a report to the Food and Drug Administration's (FDA) MedWatch Adverse Event Reporting program online (http://www.fda.gov/Safety/MedWatch) or by phone (1-800-332-1088). Keep this medication in the container it came in, tightly closed, and out of reach of children. Store it at room temperature and away from excess heat and moisture (not in the bathroom). Unneeded medications should be disposed of in special ways to ensure that pets, children, and other people cannot consume them.  However, you should not flush this medication down the toilet. Instead, the best way to dispose of your medication is through a medicine take-back program. Talk to your pharmacist or contact your local garbage/recycling department to learn about take-back programs in your community.  See the FDA's Safe Disposal of Medicines website (http://goo.gl/c4Rm4p) for more information if you do not have access to a take-back program. It is important to keep all medication out of sight and reach of children as many containers (such as weekly pill minders and those for eye drops, creams, patches, and inhalers) are not child-resistant and young children can open them easily. To protect young children from poisoning, always lock safety caps and immediately place the medication in a safe location \\u00e2\\u0080\\u0093 one that is up and away and out of their sight and reach. http://www.upandaway.org Keep all appointments with your doctor. Ask your pharmacist any questions you have about refilling your prescription. If you still have symptoms of infection after you finish the neomycin, polymyxin, and bacitracin combination ointment, call your doctor. It is important for you to keep a written list of all of the prescription and nonprescription (over-the-counter) medicines you are taking, as well as any products such as vitamins, minerals, or other dietary supplements. You should bring this list with you each time you visit a doctor or if you are admitted to a hospital. It is also important information to carry with you in case of emergencies.  \\u00c2\\u00b6 This branded product is no longer on the market. Generic alternatives may be available.\"\n        ],\n        \"semantic_type\": \"\",\n        \"description\": \"\"\n      }\n    },\n    {\n      \"column\": \"id\",\n      \"properties\": {\n        \"dtype\": \"string\",\n        \"num_unique_values\": 5,\n        \"samples\": [\n          \"01944e4b-98db-72f0-862c-0f6111fa1114\",\n          \"01944e4b-98d8-7b2d-ba58-12e9562c053c\",\n          \"01944e4b-98da-7357-ac0e-948c3be43d76\"\n        ],\n        \"semantic_type\": \"\",\n        \"description\": \"\"\n      }\n    }\n  ]\n}"
            }
          },
          "metadata": {},
          "execution_count": 11
        }
      ]
    },
    {
      "cell_type": "markdown",
      "source": [
        "# Prompts & Templates"
      ],
      "metadata": {
        "id": "cD1dRZR5VYGU"
      }
    },
    {
      "cell_type": "code",
      "source": [
        "# prompt template for the Factuality metric\n",
        "factuality_template = \"\"\"\n",
        "###INSTRUCTIONS###\n",
        "\n",
        "You are a helpful assistant who should evaluate if a medical assistant's response is factual given the provided medical context. Output 1 if the chatbot response is factually answering the user message and 0 if it doesn't.\n",
        "\n",
        "###EXAMPLE OUTPUT FORMAT###\n",
        "{{\n",
        "    \"value\": 0,\n",
        "    \"reason\": \"The response is not factually answering the user question.\"\n",
        "}}\n",
        "\n",
        "\n",
        "###CONTEXT:###\n",
        "{context}\n",
        "\n",
        "###INPUTS:###\n",
        "{question}\n",
        "\n",
        "###RESPONSE:###\n",
        "{response}\n",
        "\"\"\"\n"
      ],
      "metadata": {
        "id": "cBVYbNLWValh"
      },
      "execution_count": 12,
      "outputs": []
    },
    {
      "cell_type": "code",
      "source": [
        "prompt_template = \"\"\"\n",
        "### CONTEXT\n",
        "{context}\n",
        "\n",
        "### QUESTION\n",
        "{question}\n",
        "\"\"\""
      ],
      "metadata": {
        "id": "IY4y7BPcVb4K"
      },
      "execution_count": 13,
      "outputs": []
    },
    {
      "cell_type": "code",
      "source": [
        "system = \"You are a helpful medical assistant who answers questions using provided medical context\""
      ],
      "metadata": {
        "id": "gWQxAJS1YfBr"
      },
      "execution_count": 14,
      "outputs": []
    },
    {
      "cell_type": "markdown",
      "source": [
        "# LLM Application --> if using OpenAI API"
      ],
      "metadata": {
        "id": "tGCcMJ9rVNHd"
      }
    },
    {
      "cell_type": "code",
      "source": [
        "# Simple little client class for using different LLM APIs (OpenAI or LiteLLM)\n",
        "#class LLMClient:\n",
        "#  def __init__(self, client_type: str =\"openai\", model: str =\"gpt-4\"):\n",
        "#    self.client_type = client_type\n",
        "#    self.model = model\n",
        "\n",
        "#    if self.client_type == \"openai\":\n",
        "#      self.client = track_openai(openai.OpenAI())\n",
        "\n",
        "#    else:\n",
        "#      self.client = None\n",
        "\n",
        "  # LiteLLM query function\n",
        "#  def _get_litellm_response(self, query: str, system: str = \"You are a helpful assistant.\"):\n",
        "#    messages = [\n",
        "#        {\"role\": \"system\", \"content\": system },\n",
        "#        { \"role\": \"user\", \"content\": query }\n",
        "#    ]\n",
        "\n",
        "#    response = litellm.completion(\n",
        "#        model=self.model,\n",
        "#        messages=messages\n",
        "#    )\n",
        "\n",
        "#    return response.choices[0].message.content\n",
        "\n",
        "  # OpenAI query function - use **kwargs to pass arguments like temperature\n",
        "#  def _get_openai_response(self, query: str, system: str = \"You are a helpful assistant.\", **kwargs):\n",
        "#    messages = [\n",
        "#        {\"role\": \"system\", \"content\": system },\n",
        "#        { \"role\": \"user\", \"content\": query }\n",
        "#    ]\n",
        "\n",
        "#   response = self.client.chat.completions.create(\n",
        "#        model=self.model,\n",
        "#        messages=messages,\n",
        "#        **kwargs\n",
        "#    )\n",
        "\n",
        "#    return response.choices[0].message.content\n",
        "\n",
        "\n",
        "#  def query(self, query: str, system: str = \"You are a helpful assistant.\", **kwargs):\n",
        "#    if self.client_type == 'openai':\n",
        "#      return self._get_openai_response(query, system, **kwargs)\n",
        "\n",
        "#    else:\n",
        "#      return self._get_litellm_response(query, system)\n"
      ],
      "metadata": {
        "id": "EPwBZ-Co7HMB"
      },
      "execution_count": null,
      "outputs": []
    },
    {
      "cell_type": "code",
      "source": [
        "# Set your model and initialize your LLM client\n",
        "#MODEL = \"gpt-4o-mini\"\n",
        "#llm_client = LLMClient(model=MODEL)"
      ],
      "metadata": {
        "id": "xzk-8vTI5S4Y"
      },
      "execution_count": null,
      "outputs": []
    },
    {
      "cell_type": "code",
      "source": [
        "@track\n",
        "#def generate_factuality_score(question: str, context: str, response: str):\n",
        "#    factuality_score = llm_client.query(factuality_template.format(context=context, question=question, response=response))\n",
        "#    return eval(factuality_score)"
      ],
      "metadata": {
        "id": "_7cCHfBEaPOJ"
      },
      "execution_count": null,
      "outputs": []
    },
    {
      "cell_type": "code",
      "source": [
        "@track\n",
        "#def llm_application(question: str, context: str) -> str:\n",
        "    # LLM application code here\n",
        "#    chatbot_response = llm_client.query(prompt_template.format(question=question, context=context))\n",
        "#    return chatbot_response"
      ],
      "metadata": {
        "id": "r-qvKKpRafW-"
      },
      "execution_count": null,
      "outputs": []
    },
    {
      "cell_type": "markdown",
      "source": [
        "# Build Application with LiteLLM and llama3.2"
      ],
      "metadata": {
        "id": "ZohkqBRCVOas"
      }
    },
    {
      "cell_type": "code",
      "source": [
        "# Hugging Face Configs to access meta-llama-3.2 model\n",
        "if \"HF_TOKEN\" not in os.environ:\n",
        "  os.environ[\"HF_TOKEN\"] = getpass(\"Enter your Hugging Face Key: \")"
      ],
      "metadata": {
        "id": "MHEQjZ75WMQJ",
        "outputId": "71dad11f-897c-47d7-a5c2-e25d51bdf387",
        "colab": {
          "base_uri": "https://localhost:8080/"
        }
      },
      "execution_count": 15,
      "outputs": [
        {
          "name": "stdout",
          "output_type": "stream",
          "text": [
            "Enter your Hugging Face Key: ··········\n"
          ]
        }
      ]
    },
    {
      "cell_type": "code",
      "source": [
        "# meta-llama from HuggingFace\n",
        "MODEL = \"huggingface/meta-llama/Llama-3.2-3B-Instruct\""
      ],
      "metadata": {
        "id": "BQ-zVrPKW0Gt"
      },
      "execution_count": 16,
      "outputs": []
    },
    {
      "cell_type": "code",
      "source": [
        "from opik.evaluation.metrics import base_metric, score_result\n",
        "from opik.evaluation.models import litellm_chat_model"
      ],
      "metadata": {
        "id": "VpWzu1xPXjpJ"
      },
      "execution_count": 18,
      "outputs": []
    },
    {
      "cell_type": "code",
      "source": [
        "# Define the Factuality Metric class\n",
        "class Factuality(base_metric.BaseMetric):\n",
        "  def __init__(self, name: str, model: str = \"huggingface/meta-llama/Llama-3.2-3B-Instruct\", **kwargs):\n",
        "    self.name = name\n",
        "    self.llm_client = litellm_chat_model.LiteLLMChatModel(model_name=model)\n",
        "\n",
        "\n",
        "  @track\n",
        "  def generate_factuality_score(self, question: str, context: str, response: str):\n",
        "    factuality_score = self.llm_client.generate_string(factuality_template.format(context=context, question=question, response=response))\n",
        "    return eval(factuality_score)"
      ],
      "metadata": {
        "id": "pRypUmH6XYoE"
      },
      "execution_count": 20,
      "outputs": []
    },
    {
      "cell_type": "code",
      "source": [
        "@track\n",
        "def llm_application(question: str, context: str) -> str:\n",
        "    # LLM application code here\n",
        "    chatbot_response = litellm.completion(\n",
        "        model=MODEL,\n",
        "        messages=[{\"role\":\"system\", \"content\":system},\n",
        "                  {\"role\":\"user\", \"content\":prompt_template.format(question=question, context=context)}]\n",
        "    )\n",
        "    return chatbot_response.choices[0].message.content"
      ],
      "metadata": {
        "id": "56ZG_-iZ5Xbs"
      },
      "execution_count": 21,
      "outputs": []
    },
    {
      "cell_type": "markdown",
      "source": [
        "# LLM Unit Testing"
      ],
      "metadata": {
        "id": "upwXqV7EZ0un"
      }
    },
    {
      "cell_type": "code",
      "source": [
        "eval_dataset = json.loads(dataset.to_json())\n",
        "#eval_dataset"
      ],
      "metadata": {
        "id": "IrhHns175fMz"
      },
      "execution_count": 57,
      "outputs": []
    },
    {
      "cell_type": "markdown",
      "source": [
        "* convert the list of dictionaries into a list of tuples"
      ],
      "metadata": {
        "id": "6csoaIUjnCc9"
      }
    },
    {
      "cell_type": "code",
      "source": [
        "# Transform the dataset\n",
        "final_dataset = [(item[\"Questions\"], item[\"Answers\"]) for item in eval_dataset]\n",
        "\n",
        "# Print the final dataset for verification\n",
        "print(final_dataset)"
      ],
      "metadata": {
        "id": "0ACLdUVyjxQP",
        "outputId": "33bda973-101e-4efb-e006-020884115431",
        "colab": {
          "base_uri": "https://localhost:8080/"
        }
      },
      "execution_count": 58,
      "outputs": [
        {
          "output_type": "stream",
          "name": "stdout",
          "text": [
            "[('What is (are) 1q21.1 microdeletion ?', '1q21.1 microdeletion is a chromosomal change in which a small piece of chromosome 1 is deleted in each cell. The deletion occurs on the long (q) arm of the chromosome in a region designated q21.1. This chromosomal change increases the risk of delayed development, intellectual disability, physical abnormalities, and neurological and psychiatric problems. However, some people with a 1q21.1 microdeletion do not appear to have any associated features.  About 75 percent of all children with a 1q21.1 microdeletion have delayed development, particularly affecting the development of motor skills such as sitting, standing, and walking. The intellectual disability and learning problems associated with this genetic change are usually mild.  Distinctive facial features can also be associated with 1q21.1 microdeletions. The changes are usually subtle and can include a prominent forehead; a large, rounded nasal tip; a long space between the nose and upper lip (philtrum); and a high, arched roof of the mouth (palate). Other common signs and symptoms of 1q21.1 microdeletions include an unusually small head (microcephaly), short stature, and eye problems such as clouding of the lenses (cataracts). Less frequently, 1q21.1 microdeletions are associated with heart defects, abnormalities of the genitalia or urinary system, bone abnormalities (particularly in the hands and feet), and hearing loss.  Neurological problems that have been reported in people with a 1q21.1 microdeletion include seizures and weak muscle tone (hypotonia). Psychiatric or behavioral problems affect a small percentage of people with this genetic change. These include developmental conditions called autism spectrum disorders that affect communication and social interaction, attention deficit hyperactivity disorder (ADHD), and sleep disturbances. Studies suggest that deletions of genetic material from the 1q21.1 region may also be risk factors for schizophrenia.  Some people with a 1q21.1 microdeletion do not have any of the intellectual, physical, or psychiatric features described above. In these individuals, the microdeletion is often detected when they undergo genetic testing because they have a relative with the chromosomal change. It is unknown why 1q21.1 microdeletions cause cognitive and physical changes in some individuals but few or no health problems in others, even within the same family.'), ('What are the treatments for Diverticulitis ?', ''), ('What are the side effects or risks of Neomycin, Polymyxin, and Bacitracin Ophthalmic ?', ''), ('What are the symptoms of Dementia ?', ''), ('What are the symptoms of CHOPS syndrome ?', 'What are the signs and symptoms of CHOPS syndrome? The Human Phenotype Ontology provides the following list of signs and symptoms for CHOPS syndrome. If the information is available, the table below includes how often the symptom is seen in people with this condition. You can use the MedlinePlus Medical Dictionary to look up the definitions for these medical terms. Signs and Symptoms Approximate number of patients (when available) Cataract 5% Hearing impairment 5% Horseshoe kidney 5% Optic atrophy 5% Abnormality of the cardiac septa - Aspiration pneumonia - Brachydactyly syndrome - Chronic lung disease - Coarse facial features - Cryptorchidism - Downturned corners of mouth - Gastroesophageal reflux - Hypertelorism - Intellectual disability - Laryngomalacia - Long eyelashes - Obesity - Patent ductus arteriosus - Proptosis - Round face - Short nose - Short stature - Thick eyebrow - Thick hair - Tracheal stenosis - Vesicoureteral reflux - The Human Phenotype Ontology (HPO) has collected information on how often a sign or symptom occurs in a condition. Much of this information comes from Orphanet, a European rare disease database. The frequency of a sign or symptom is usually listed as a rough estimate of the percentage of patients who have that feature. The frequency may also be listed as a fraction. The first number of the fraction is how many people had the symptom, and the second number is the total number of people who were examined in one study. For example, a frequency of 25/25 means that in a study of 25 people all patients were found to have that symptom. Because these frequencies are based on a specific study, the fractions may be different if another group of patients are examined. Sometimes, no information on frequency is available. In these cases, the sign or symptom may be rare or common.'), ('What are the side effects or risks of Busulfan ?', ''), ('What should I do if I forget a dose of Ibuprofen ?', ''), ('What are the brand names of Anakinra ?', ''), ('What should I know about storage and disposal of Cimetidine ?', ''), ('Do I need to see a doctor for Plague ?', ''), ('Do you have information about Spleen removal', ''), ('What are the symptoms of Epidermolysis bullosa simplex, generalized ?', 'What are the signs and symptoms of Epidermolysis bullosa simplex, generalized? Epidermolysis bullosa simplex, generalized is associated with widespread blisters that appear at birth or in early infancy. While not a common feature of this type of epidermolysis bullosa, scarring may occasionally occur. There may also be mild involvement of the mucous membranes, fingernails and toenails. As individuals age, localized thickening of the skin on the soles of the feet and palms of the hands may occur.   The Human Phenotype Ontology provides the following list of signs and symptoms for Epidermolysis bullosa simplex, generalized. If the information is available, the table below includes how often the symptom is seen in people with this condition. You can use the MedlinePlus Medical Dictionary to look up the definitions for these medical terms. Signs and Symptoms Approximate number of patients (when available) Abnormal blistering of the skin 90% Subcutaneous hemorrhage 90% Abnormal pattern of respiration 50% Abnormality of dental enamel 50% Abnormality of the nail 50% Hyperhidrosis 50% Ophthalmoparesis 50% Palmoplantar keratoderma 50% Ptosis 50% Fatigable weakness 7.5% Respiratory insufficiency 7.5% Milia 5% Nail dysplasia 5% Nail dystrophy 5% Autosomal dominant inheritance - Palmoplantar hyperkeratosis - The Human Phenotype Ontology (HPO) has collected information on how often a sign or symptom occurs in a condition. Much of this information comes from Orphanet, a European rare disease database. The frequency of a sign or symptom is usually listed as a rough estimate of the percentage of patients who have that feature. The frequency may also be listed as a fraction. The first number of the fraction is how many people had the symptom, and the second number is the total number of people who were examined in one study. For example, a frequency of 25/25 means that in a study of 25 people all patients were found to have that symptom. Because these frequencies are based on a specific study, the fractions may be different if another group of patients are examined. Sometimes, no information on frequency is available. In these cases, the sign or symptom may be rare or common.'), ('What are the genetic changes related to Cole disease ?', 'Cole disease is caused by mutations in the ENPP1 gene. This gene provides instructions for making a protein that helps to prevent minerals, including calcium, from being deposited in body tissues where they do not belong. It also plays a role in controlling cell signaling in response to the hormone insulin, through interaction between a part of the ENPP1 protein called the SMB2 domain and the insulin receptor. The insulin receptor is a protein that attaches (binds) to insulin and initiates cell signaling.  Insulin plays many roles in the body, including regulating blood sugar levels by controlling how much sugar (in the form of glucose) is passed from the bloodstream into cells to be used as energy. Cell signaling in response to insulin is also important for the maintenance of the outer layer of skin (the epidermis). It helps control the transport of the pigment melanin from the cells in which it is produced (melanocytes) to epidermal cells called keratinocytes, and it is also involved in the development of keratinocytes.  The mutations that cause Cole disease change the structure of the SMB2 domain, which alters its interaction with the insulin receptor and affects cell signaling. The resulting impairment of ENPP1&apos;s role in melanin transport and keratinocyte development leads to the hypopigmentation and keratoderma that occurs in Cole disease. The mutations may also impair ENPP1&apos;s control of calcification, which likely accounts for the abnormal calcium deposits that occur in some people with this disorder. For reasons that are unclear, the changes in insulin signaling resulting from these ENPP1 gene mutations do not seem to affect blood sugar control.'), ('Are there safety concerns or special precautions about Codeine ?', ''), ('What important warning or information should I know about Bismuth, Metronidazole, and Tetracycline ?', ''), ('What should I know about storage and disposal of Doxycycline Injection ?', ''), ('what research (or clinical trials) is being done for Primary Lateral Sclerosis ?', 'The NINDS conducts a broad range of research on neuromuscular disorders such as PLS. This research is aimed at developing techniques to diagnose, treat, prevent, and ultimately cure these devastating diseases.'), ('What are the treatments for Acute myelogenous leukemia (AML) - children ?', ''), ('What to do for Splenomegaly ?', ''), ('Are there safety concerns or special precautions about Zolpidem ?', ''), ('What are the symptoms of Brachyolmia type 3 ?', 'What are the signs and symptoms of Brachyolmia type 3? The Human Phenotype Ontology provides the following list of signs and symptoms for Brachyolmia type 3. If the information is available, the table below includes how often the symptom is seen in people with this condition. You can use the MedlinePlus Medical Dictionary to look up the definitions for these medical terms. Signs and Symptoms Approximate number of patients (when available) Kyphosis 90% Platyspondyly 90% Scoliosis 90% Short stature 90% Short thorax 90% Abnormality of the metaphyses 7.5% Autosomal dominant inheritance - Barrel-shaped chest - Childhood-onset short-trunk short stature - Clinodactyly - Hypermetropia - Proximal femoral metaphyseal irregularity - Radial deviation of finger - Short femoral neck - Short neck - Spinal cord compression - The Human Phenotype Ontology (HPO) has collected information on how often a sign or symptom occurs in a condition. Much of this information comes from Orphanet, a European rare disease database. The frequency of a sign or symptom is usually listed as a rough estimate of the percentage of patients who have that feature. The frequency may also be listed as a fraction. The first number of the fraction is how many people had the symptom, and the second number is the total number of people who were examined in one study. For example, a frequency of 25/25 means that in a study of 25 people all patients were found to have that symptom. Because these frequencies are based on a specific study, the fractions may be different if another group of patients are examined. Sometimes, no information on frequency is available. In these cases, the sign or symptom may be rare or common.'), ('What to do for Pupil - white spots ?', ''), ('How many people are affected by Potocki-Shaffer syndrome ?', 'Potocki-Shaffer syndrome is a rare condition, although its prevalence is unknown. Fewer than 100 cases have been reported in the scientific literature.'), ('Do you have information about Vegetarian Diet', 'Summary : A vegetarian diet focuses on plants for food. These include fruits, vegetables, dried beans and peas, grains, seeds and nuts. There is no single type of vegetarian diet. Instead, vegetarian eating patterns usually fall into the following groups:        -  The vegan diet, which excludes all meat and animal products    -  The lacto vegetarian diet, which includes plant foods plus dairy products    -  The lacto-ovo vegetarian diet, which includes both dairy products and eggs       People who follow vegetarian diets can get all the nutrients they need. However, they must be careful to eat a wide variety of foods to meet their nutritional needs. Nutrients vegetarians may need to focus on include protein, iron, calcium, zinc and vitamin B12.     United States Department of Agriculture'), ('What is the action of Bifidobacteria and how does it work ?', ''), ('Are there safety concerns or special precautions about Topotecan Injection ?', ''), ('How many people are affected by congenital hyperinsulinism ?', 'Congenital hyperinsulinism affects approximately 1 in 50,000 newborns. This condition is more common in certain populations, affecting up to 1 in 2,500 newborns.'), ('Do I need to see a doctor for Intraductal papilloma ?', ''), ('Do I need to see a doctor for Gastroschisis ?', ''), ('What is (are) Valley Fever ?', 'Valley Fever is a disease caused by a fungus (or mold) called Coccidioides. The fungi live in the soil of dry areas like the southwestern U.S. You get it from inhaling the spores of the fungus. The infection cannot spread from person to person.    Anyone can get Valley Fever. But it&apos;s most common among older adults, especially those 60 and older. People who have recently moved to an area where it occurs are at highest risk for infection. Other people at higher risk include       - Workers in jobs that expose them to soil dust. These include construction workers, agricultural workers, and military forces doing field training.    - African Americans and Asians    - Women in their third trimester of pregnancy    - People with weak immune systems       Valley Fever is often mild, with no symptoms. If you have symptoms, they may include a flu-like illness, with fever, cough, headache, rash, and muscle aches. Most people get better within several weeks or months. A small number of people may develop a chronic lung or widespread infection.    Valley Fever is diagnosed by testing your blood, other body fluids, or tissues. Many people with the acute infection get better without treatment. In some cases, doctors may prescribe antifungal drugs for acute infections. Severe infections require antifungal drugs.    Centers for Disease Control and Prevention'), ('What are the treatments for Meningococcemia ?', ''), ('What are the symptoms of Varicella virus antenatal infection ?', 'What are the signs and symptoms of Varicella virus antenatal infection? The Human Phenotype Ontology provides the following list of signs and symptoms for Varicella virus antenatal infection. If the information is available, the table below includes how often the symptom is seen in people with this condition. You can use the MedlinePlus Medical Dictionary to look up the definitions for these medical terms. Signs and Symptoms Approximate number of patients (when available) Atypical scarring of skin 90% Intrauterine growth retardation 90% Aplasia/Hypoplasia affecting the eye 50% Cataract 50% Cerebral cortical atrophy 50% Cognitive impairment 50% Microcephaly 50% Micromelia 50% The Human Phenotype Ontology (HPO) has collected information on how often a sign or symptom occurs in a condition. Much of this information comes from Orphanet, a European rare disease database. The frequency of a sign or symptom is usually listed as a rough estimate of the percentage of patients who have that feature. The frequency may also be listed as a fraction. The first number of the fraction is how many people had the symptom, and the second number is the total number of people who were examined in one study. For example, a frequency of 25/25 means that in a study of 25 people all patients were found to have that symptom. Because these frequencies are based on a specific study, the fractions may be different if another group of patients are examined. Sometimes, no information on frequency is available. In these cases, the sign or symptom may be rare or common.'), ('Do I need to see a doctor for Cholesteatoma ?', ''), ('What are the symptoms of Increased intracranial pressure ?', ''), ('What to do in case of emergency or overdose of Efinaconazole Topical ?', ''), ('What are the genetic changes related to Prader-Willi syndrome ?', 'Prader-Willi syndrome is caused by the loss of function of genes in a particular region of chromosome 15. People normally inherit one copy of this chromosome from each parent. Some genes are turned on (active) only on the copy that is inherited from a person&apos;s father (the paternal copy). This parent-specific gene activation is caused by a phenomenon called genomic imprinting.  Most cases of Prader-Willi syndrome (about 70 percent) occur when a segment of the paternal chromosome 15 is deleted in each cell. People with this chromosomal change are missing certain critical genes in this region because the genes on the paternal copy have been deleted, and the genes on the maternal copy are turned off (inactive). In another 25 percent of cases, a person with Prader-Willi syndrome has two copies of chromosome 15 inherited from his or her mother (maternal copies) instead of one copy from each parent. This phenomenon is called maternal uniparental disomy. Rarely, Prader-Willi syndrome can also be caused by a chromosomal rearrangement called a translocation, or by a mutation or other defect that abnormally turns off (inactivates) genes on the paternal chromosome 15.  It appears likely that the characteristic features of Prader-Willi syndrome result from the loss of function of several genes on chromosome 15. Among these are genes that provide instructions for making molecules called small nucleolar RNAs (snoRNAs). These molecules have a variety of functions, including helping to regulate other types of RNA molecules. (RNA molecules play essential roles in producing proteins and in other cell activities.) Studies suggest that the loss of a particular group of snoRNA genes, known as the SNORD116 cluster, may play a major role in causing the signs and symptoms of Prader-Willi syndrome. However, it is unknown how a missing SNORD116 cluster could contribute to intellectual disability, behavioral problems, and the physical features of the disorder.  In some people with Prader-Willi syndrome, the loss of a gene called OCA2 is associated with unusually fair skin and light-colored hair. The OCA2 gene is located on the segment of chromosome 15 that is often deleted in people with this disorder. However, loss of the OCA2 gene does not cause the other signs and symptoms of Prader-Willi syndrome. The protein produced from this gene helps determine the coloring (pigmentation) of the skin, hair, and eyes.  Researchers are studying other genes on chromosome 15 that may also be related to the major signs and symptoms of this condition.'), ('What are the symptoms of Myocarditis - pediatric ?', ''), ('Do you have information about Aging changes in sleep', ''), ('What are the symptoms of Dystrophic epidermolysis bullosa ?', 'What are the signs and symptoms of Dystrophic epidermolysis bullosa? The Human Phenotype Ontology provides the following list of signs and symptoms for Dystrophic epidermolysis bullosa. If the information is available, the table below includes how often the symptom is seen in people with this condition. You can use the MedlinePlus Medical Dictionary to look up the definitions for these medical terms. Signs and Symptoms Approximate number of patients (when available) Abnormal blistering of the skin 90% Abnormality of the fingernails 90% Abnormality of the toenails 90% Aplasia/Hypoplasia of the skin 90% Cheilitis 90% Abnormality of dental enamel 50% Abnormality of the hand 50% Abnormality of the larynx 50% Anonychia 50% Camptodactyly of toe 50% Carious teeth 50% Constipation 50% Feeding difficulties in infancy 50% Finger syndactyly 50% Furrowed tongue 50% Gangrene 50% Hypopigmented skin patches 50% Skin ulcer 50% Toe syndactyly 50% Tracheoesophageal fistula 50% Abnormality of the preputium 7.5% Anemia 7.5% Atypical scarring of skin 7.5% Blepharitis 7.5% Cerebral ischemia 7.5% Congestive heart failure 7.5% Corneal erosion 7.5% Eczema 7.5% Glomerulopathy 7.5% Hearing impairment 7.5% Hypertrophic cardiomyopathy 7.5% Immunologic hypersensitivity 7.5% Lacrimation abnormality 7.5% Malabsorption 7.5% Neoplasm of the skin 7.5% Nephrotic syndrome 7.5% Otitis media 7.5% Renal insufficiency 7.5% Restrictive lung disease 7.5% Ureteral stenosis 7.5% The Human Phenotype Ontology (HPO) has collected information on how often a sign or symptom occurs in a condition. Much of this information comes from Orphanet, a European rare disease database. The frequency of a sign or symptom is usually listed as a rough estimate of the percentage of patients who have that feature. The frequency may also be listed as a fraction. The first number of the fraction is how many people had the symptom, and the second number is the total number of people who were examined in one study. For example, a frequency of 25/25 means that in a study of 25 people all patients were found to have that symptom. Because these frequencies are based on a specific study, the fractions may be different if another group of patients are examined. Sometimes, no information on frequency is available. In these cases, the sign or symptom may be rare or common.'), ('What are the symptoms of Vaginal dryness ?', ''), ('What is (are) Wilms tumor ?', ''), ('Do I need to see a doctor for Foot, leg, and ankle swelling ?', ''), ('What is (are) Living with a chronic illness - dealing with feelings ?', ''), ('What are the symptoms of Grass and weed killer poisoning ?', ''), ('What causes Mosaic trisomy 9 ?', 'What causes mosaic trisomy 9? Most cases of mosaic trisomy 9 occur due to a random event during the formation of the reproductive cells (egg and sperm) or after fertilization has taken place. An error in cell division (called nondisjunction) may cause some eggs or sperm to have an abnormal number of chromosomes. If an egg or sperm with an extra chromosome 9 contributes to the genetic makeup of an embryo, the embryo will have an extra copy of chromosome 9 in each cell. As the embryo grows and divides, an attempt may be made to correct the mistake by eliminating one extra chromosome 9. In people with mosaic trisomy 9, this attempt may be partly successful, leaving some cells with an extra chromosome 9 and some cells with the extra chromosome deleted (the usual chromosome number). This correction process is called trisomy rescue. In other cases, the egg and sperm may have a normal number of chromosomes, but an error of cell division (nondisjunction) occurs when the fertilized egg is growing and dividing. If an error occurs during one of the divisions, it can cause some cells to have an abnormal number of chromosomes. In people affected by mosaic trisomy 9, some of the body&apos;s cells have the usual two copies of chromosome 9, and other cells have three copies of this chromosome (trisomy). The percentage of cells with trisomy 9 and which parts of the body are affected vary from person to person. This leads to variability in the range and severity of symptoms. In rare cases, mosaic trisomy 9 is inherited from a parent with a chromosomal rearrangement called a &quot;pericentric inversion.&quot; This occurs when a segment of chromosome 9 has broken off in two places, swiveled round 180 degrees and reinserted itself into the chromosome. If this rearrangement is considered &quot;balanced,&quot; meaning the piece of chromosome is in a different order but no genetic material is gained or lost, it usually does not cause any symptoms or health problems. However, it can be associated with an increased risk of having children with an abnormal number or chromosomes.'), ('What is (are) Scurvy ?', 'Scurvy is a condition that develops in people who do not consume an adequate amount of vitamin C in their diet. Although scurvy is relatively rare in the United States, it continues to be a problem in malnourished populations around the world (such as impoverished, underdeveloped third world countries). Early features of the condition include general weakness, fatigue and aching limbs. If left untreated, more serious problems can develop such as anemia, gum disease, and skin hemorrhages. Symptoms generally develop after at least 3 months of severe or total vitamin C deficiency. Treatment consists of vitamin C supplements taken by mouth.'), ('What is the outlook for Hepatic ischemia ?', ''), ('What are the symptoms of Tetanus ?', ''), ('Do you have information about Gastric bypass surgery - discharge', ''), ('What is (are) Your cancer survivorship care plan ?', '')]\n"
          ]
        }
      ]
    },
    {
      "cell_type": "code",
      "source": [
        "# convert the list of dictionaries into a list of tuples (from the provided notebook)\n",
        "#final_dataset = [(item[\"input\"][\"question\"], item[\"expected_output\"][\"response\"]) for item in eval_dataset]"
      ],
      "metadata": {
        "id": "x1C4nbwejtfb"
      },
      "execution_count": 53,
      "outputs": []
    },
    {
      "cell_type": "code",
      "source": [
        "@llm_unit(expected_output_key=\"expected_output\")\n",
        "@pytest.mark.parametrize(\"user_question, expected_output\", final_dataset)\n",
        "def test_factuality_test(user_question, expected_output):\n",
        "    response = llm_application(user_question)\n",
        "    factuality_score = generate_factuality_score(user_question, response)\n",
        "\n",
        "    assert factuality_score[\"value\"] > 0.5\n"
      ],
      "metadata": {
        "id": "f2s-Fw0K5fLF"
      },
      "execution_count": 59,
      "outputs": []
    },
    {
      "cell_type": "code",
      "source": [],
      "metadata": {
        "id": "RWUHedCr5fGX"
      },
      "execution_count": null,
      "outputs": []
    },
    {
      "cell_type": "code",
      "source": [],
      "metadata": {
        "id": "1jhGs5tJ5fCR"
      },
      "execution_count": null,
      "outputs": []
    }
  ]
}